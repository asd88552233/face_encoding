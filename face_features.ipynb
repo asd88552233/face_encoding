{
 "cells": [
  {
   "cell_type": "code",
   "execution_count": null,
   "metadata": {},
   "outputs": [],
   "source": [
    "import face_recognition\n",
    "import glob\n",
    "import numpy as np\n",
    "import pandas as pd\n",
    "import cv2\n",
    "import os"
   ]
  },
  {
   "cell_type": "code",
   "execution_count": null,
   "metadata": {},
   "outputs": [],
   "source": [
    "#load features first\n",
    "feature_dir = ''\n"
   ]
  },
  {
   "cell_type": "code",
   "execution_count": null,
   "metadata": {},
   "outputs": [],
   "source": [
    "def change(s):\n",
    "    return eval(s)"
   ]
  },
  {
   "cell_type": "code",
   "execution_count": null,
   "metadata": {},
   "outputs": [],
   "source": [
    "#read members feature\n",
    "\n",
    "def read_members_frame(features_dir):\n",
    "    all_features = pd.read_csv(features_dir, index_col=0, encoding = 'utf-8')  \n",
    "    return all_features"
   ]
  },
  {
   "cell_type": "code",
   "execution_count": null,
   "metadata": {},
   "outputs": [],
   "source": [
    "#input img directory, feature directory\n",
    "#output message\n",
    "def create_member(img_dir, features_dir):\n",
    "    img_list = glob.glob(img_dir+'/*')\n",
    "    \n",
    "    member_name = os.path.split(img_list[0])[-1].split(\".\")[0].split(\"_\")[0]\n",
    "    dummy_coding = [0]*128\n",
    "    member_features = []\n",
    "    features_list = read_members_frame(features_dir)\n",
    "    \n",
    "    df_index=features_list.columns\n",
    "    if(df_index.contains(member_name)):\n",
    "        message = 'member already exists'\n",
    "        return message\n",
    "    \n",
    "    for (i,f) in enumerate(img_list):\n",
    "        mem_img = face_recognition.load_image_file(f)\n",
    "        face_encoding = face_recognition.face_encodings(mem_img)\n",
    "        if face_encoding:\n",
    "            member_features.append(list(face_encoding[0]))\n",
    "        else:\n",
    "            member_features.append(list(dummy_coding))\n",
    "\n",
    "    #create new member feature\n",
    "    df_cols = features_list.shape[1]\n",
    "    #insert new member\n",
    "    features_list.insert(df_cols, member_name, member_features)\n",
    "\n",
    "    features_list.to_csv(features_dir, encoding='utf-8')\n",
    "    message = 'new member created'\n",
    "\n",
    "    return message"
   ]
  },
  {
   "cell_type": "code",
   "execution_count": null,
   "metadata": {},
   "outputs": [],
   "source": [
    "#input features list\n",
    "def resume_all_features(features_list):\n",
    "    df_cols = features_list.shape[1]\n",
    "    #change string back to float list\n",
    "    for i in range(1,df_cols):\n",
    "        current_col = features_list.columns[i]\n",
    "        features_list[current_col] = features_list[current_col].apply(change)\n",
    "    \n",
    "    applied = True\n",
    "    #one column can only be apply once\n",
    "    return applied"
   ]
  },
  {
   "cell_type": "code",
   "execution_count": null,
   "metadata": {},
   "outputs": [],
   "source": [
    "#input cv image encoding and single member features\n",
    "def find_match(cv_encoding, feature):\n",
    "    results = face_recognition.compare_faces(cv_encoding, feature, tolerance = 0.3)     \n",
    "\n",
    "    check_true = results.count(True)\n",
    "    #check if feature matches\n",
    "    if (check_true==5):\n",
    "        found = True\n",
    "    else:\n",
    "        found = False\n",
    "    \n",
    "    return found"
   ]
  },
  {
   "cell_type": "code",
   "execution_count": null,
   "metadata": {},
   "outputs": [],
   "source": [
    "#input cv image and features list\n",
    "def member_login(cv_img,features_list):\n",
    "   \n",
    "    df_cols = features_list.shape[1]\n",
    "    cv_feature = face_recognition.face_encodings(cv_img)\n",
    "  \n",
    "    result_name = 'not found'\n",
    "    if not cv_feature:\n",
    "        return result_name\n",
    "    cv_encoding = cv_feature[0]\n",
    "  \n",
    "    for i in range(1,df_cols):\n",
    "        current_col = features_list.columns[i]\n",
    "        #check current column\n",
    "        found = find_match(features_list[current_col].tolist(), cv_encoding)\n",
    "    #return current column name if found\n",
    "    if(found):\n",
    "        result_name = current_col\n",
    "        break\n",
    "\n",
    "    return result_name"
   ]
  },
  {
   "cell_type": "code",
   "execution_count": null,
   "metadata": {},
   "outputs": [],
   "source": [
    "#註冊:\n",
    "#給成員影像位置\n",
    "#create_member\n",
    "#print(message)"
   ]
  },
  {
   "cell_type": "code",
   "execution_count": null,
   "metadata": {},
   "outputs": [],
   "source": [
    "#登入\n",
    "#先讀所有會員特徵向量\n",
    "#只做一次 resume_all_features\n",
    "#member login output string:result and blooing:found\n",
    "#得到輸出後決定下一步驟"
   ]
  },
  {
   "cell_type": "code",
   "execution_count": null,
   "metadata": {},
   "outputs": [],
   "source": []
  }
 ],
 "metadata": {
  "kernelspec": {
   "display_name": "Python 3",
   "language": "python",
   "name": "python3"
  },
  "language_info": {
   "codemirror_mode": {
    "name": "ipython",
    "version": 3
   },
   "file_extension": ".py",
   "mimetype": "text/x-python",
   "name": "python",
   "nbconvert_exporter": "python",
   "pygments_lexer": "ipython3",
   "version": "3.7.1"
  }
 },
 "nbformat": 4,
 "nbformat_minor": 2
}
